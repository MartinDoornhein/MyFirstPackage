import requests
from datetime import datetime

# Replace these with your Meteomatics username and password
USERNAME = 'your_username'
PASSWORD = 'your_password'

# Define the endpoint and parameters
base_url = 'https://api.meteomatics.com'
endpoint = '/now/t_2m:C'
location = '47.3769,8.5417'  # Example coordinates for Zurich
current_time = datetime.utcnow().strftime('%Y-%m-%dT%H:%M:%SZ')

url = f'{base_url}/{current_time}{endpoint}/{location}/json'

# Make the API request
response = requests.get(url, auth=(USERNAME, PASSWORD))

# Check if the request was successful
if response.status_code == 200:
    data = response.json()
    print("Data retrieved successfully:")
    print(data)
else:
    print(f"Failed to retrieve data. HTTP Status code: {response.status_code}")
    print("Response:", response.text)
